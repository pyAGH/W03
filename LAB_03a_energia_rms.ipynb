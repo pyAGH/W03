{
 "cells": [
  {
   "cell_type": "code",
   "execution_count": null,
   "metadata": {},
   "outputs": [],
   "source": [
    "import sys\n",
    "!{sys.executable} -m pip install numpy\n",
    "!{sys.executable} -m pip install matplotlib"
   ]
  },
  {
   "cell_type": "code",
   "execution_count": 5,
   "metadata": {},
   "outputs": [],
   "source": [
    "import numpy as np\n",
    "import matplotlib.pyplot as plt"
   ]
  },
  {
   "cell_type": "markdown",
   "metadata": {},
   "source": [
    "### Przykład 1 - Obliczenie energii"
   ]
  },
  {
   "cell_type": "code",
   "execution_count": 25,
   "metadata": {},
   "outputs": [],
   "source": [
    "t=np.array([0,15,30,45,60,75,90])  #wartości podane w minutach\n",
    "P=np.array([0,5,5,10,10,10,5]) #kW"
   ]
  },
  {
   "cell_type": "code",
   "execution_count": 77,
   "metadata": {},
   "outputs": [
    {
     "data": {
      "text/plain": [
       "(-0.25, 1.75, 0.0, 15.0)"
      ]
     },
     "execution_count": 77,
     "metadata": {},
     "output_type": "execute_result"
    },
    {
     "data": {
      "image/png": "[encoded data removed]",
      "text/plain": [
       "<Figure size 432x288 with 1 Axes>"
      ]
     },
     "metadata": {
      "needs_background": "light"
     },
     "output_type": "display_data"
    }
   ],
   "source": [
    "plt.plot(t/60,P, \"*\", color=\"red\")\n",
    "plt.plot(t/60,P)\n",
    "plt.grid(True)\n",
    "plt.xlabel(\"Czas [h]\")\n",
    "plt.ylabel(\"P [kW]\")\n",
    "plt.axis([-0.25,1.75,0,15])"
   ]
  },
  {
   "cell_type": "code",
   "execution_count": 40,
   "metadata": {},
   "outputs": [
    {
     "name": "stdout",
     "output_type": "stream",
     "text": [
      "Energia wynosi:  11.25\n"
     ]
    }
   ],
   "source": [
    "# całkujemy:\n",
    "\n",
    "E=0\n",
    "for i in range(1,len(P)):\n",
    "    E+=P[i]*(t[i]-t[i-1])/60\n",
    "print(\"Energia wynosi: \",E)"
   ]
  },
  {
   "cell_type": "markdown",
   "metadata": {},
   "source": [
    "### Przykład 2 - Wartość skuteczna napięcia\n",
    "Jak dobór kroku całkowania wpływa na dokładność prowadzonych obliczeń"
   ]
  },
  {
   "cell_type": "code",
   "execution_count": 70,
   "metadata": {},
   "outputs": [],
   "source": [
    "x=np.linspace(0,2*np.pi,10)\n",
    "y=np.sin(x)*230*np.sqrt(2)"
   ]
  },
  {
   "cell_type": "code",
   "execution_count": 59,
   "metadata": {},
   "outputs": [
    {
     "name": "stdout",
     "output_type": "stream",
     "text": [
      "[ 0.00000000e+00  2.09078960e+02  3.20327551e+02  2.81691320e+02\n",
      "  1.11248591e+02 -1.11248591e+02 -2.81691320e+02 -3.20327551e+02\n",
      " -2.09078960e+02 -7.96679572e-14]\n"
     ]
    }
   ],
   "source": [
    "print(y)"
   ]
  },
  {
   "cell_type": "code",
   "execution_count": 76,
   "metadata": {},
   "outputs": [
    {
     "data": {
      "text/plain": [
       "Text(0.5, 0, 'y')"
      ]
     },
     "execution_count": 76,
     "metadata": {},
     "output_type": "execute_result"
    },
    {
     "data": {
      "image/png": "[encoded data removed]",
      "text/plain": [
       "<Figure size 432x288 with 1 Axes>"
      ]
     },
     "metadata": {
      "needs_background": "light"
     },
     "output_type": "display_data"
    }
   ],
   "source": [
    "plt.plot(x,y, '*')\n",
    "plt.grid(True)\n",
    "plt.xlabel(\"x\")\n",
    "\n",
    "plt.xlabel(\"y\")"
   ]
  },
  {
   "cell_type": "code",
   "execution_count": 75,
   "metadata": {},
   "outputs": [
    {
     "name": "stdout",
     "output_type": "stream",
     "text": [
      "218.1971585516182\n"
     ]
    }
   ],
   "source": [
    "# wyznaczamy wartość skuteczną (Wsk)\n",
    "\n",
    "sum=0\n",
    "for i in range(len(y)):\n",
    "    sum=sum+y[i]**2\n",
    "\n",
    "Wsk=np.sqrt(sum/len(y))\n",
    "print((Wsk))"
   ]
  },
  {
   "cell_type": "code",
   "execution_count": 79,
   "metadata": {},
   "outputs": [
    {
     "name": "stdout",
     "output_type": "stream",
     "text": [
      "[61. 87. 51. 91. 18. 47. 78. 92.  2. 87. 39. 31. 55. 86. 97. 17. 42. 21.\n",
      " 27. 88. 11.  4. 16. 28. 42. 20. 65. 30. 30. 37. 95. 72. 74. 96. 29.  1.\n",
      "  3.  2.  2. 53. 86. 66. 44.  9. 19. 46. 82. 11. 67. 98. 43. 96. 43. 56.\n",
      " 28. 19. 92.  4. 75. 59. 68. 67. 34. 49. 75. 71. 40. 17. 63. 45. 29. 71.\n",
      " 57. 30. 67. 11. 20. 10. 10. 39. 61. 97. 37. 51. 96. 44. 37. 19. 84. 53.\n",
      " 43. 30. 81. 11. 50. 77. 93. 69. 34. 51.]\n"
     ]
    }
   ],
   "source": [
    "tab=np.random.rand(100)*100\n",
    "tb=np.round(tab)\n",
    "print(tb)"
   ]
  },
  {
   "cell_type": "code",
   "execution_count": null,
   "metadata": {},
   "outputs": [],
   "source": []
  }
 ],
 "metadata": {
  "kernelspec": {
   "display_name": "Python 3",
   "language": "python",
   "name": "python3"
  },
  "language_info": {
   "codemirror_mode": {
    "name": "ipython",
    "version": 3
   },
   "file_extension": ".py",
   "mimetype": "text/x-python",
   "name": "python",
   "nbconvert_exporter": "python",
   "pygments_lexer": "ipython3",
   "version": "3.9.0"
  }
 },
 "nbformat": 4,
 "nbformat_minor": 4
}
