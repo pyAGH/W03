{
 "cells": [
  {
   "cell_type": "code",
   "execution_count": null,
   "metadata": {},
   "outputs": [],
   "source": [
    "import sys\n",
    "!{sys.executable} -m pip install numpy\n",
    "!{sys.executable} -m pip install matplotlib"
   ]
  },
  {
   "cell_type": "code",
   "execution_count": 5,
   "metadata": {},
   "outputs": [],
   "source": [
    "import numpy as np\n",
    "import matplotlib.pyplot as plt"
   ]
  },
  {
   "cell_type": "markdown",
   "metadata": {},
   "source": [
    "### Obliczenie całki oznaczonej: $$ \\int^{1}_{-1} \\sqrt{1-x^{2}} $$"
   ]
  },
  {
   "cell_type": "code",
   "execution_count": 286,
   "metadata": {},
   "outputs": [
    {
     "data": {
      "text/plain": [
       "Text(0, 0.5, 'y')"
      ]
     },
     "execution_count": 286,
     "metadata": {},
     "output_type": "execute_result"
    },
    {
     "data": {
      "image/png": "[encoded data removed]",
      "text/plain": [
       "<Figure size 432x288 with 1 Axes>"
      ]
     },
     "metadata": {
      "needs_background": "light"
     },
     "output_type": "display_data"
    }
   ],
   "source": [
    "x=np.linspace(-1,1,100)\n",
    "y=np.sqrt(1-x**2)\n",
    "\n",
    "plt.plot(x,y)\n",
    "plt.grid(True)\n",
    "plt.xlabel(\"x\")\n",
    "plt.ylabel(\"y\")\n"
   ]
  },
  {
   "cell_type": "markdown",
   "metadata": {},
   "source": [
    "### a) SciPy"
   ]
  },
  {
   "cell_type": "code",
   "execution_count": 81,
   "metadata": {},
   "outputs": [],
   "source": [
    "import scipy.integrate as integrate\n",
    "from scipy.integrate import quad"
   ]
  },
  {
   "cell_type": "code",
   "execution_count": 287,
   "metadata": {},
   "outputs": [
    {
     "name": "stdout",
     "output_type": "stream",
     "text": [
      "Wynik całkowania:  (1.5707963267948983, 1.0002354500215915e-09)\n",
      "1/2 pola koła o promieniu r-1  1.5707963267948966\n"
     ]
    }
   ],
   "source": [
    "def integrand(x):\n",
    "    return np.sqrt(1-x**2)\n",
    "\n",
    "I = quad(integrand,-1, 1)\n",
    "\n",
    "print(\"Wynik całkowania: \",I)\n",
    "print(\"1/2 pola koła o promieniu r-1 \", np.pi/2)"
   ]
  },
  {
   "cell_type": "code",
   "execution_count": 200,
   "metadata": {},
   "outputs": [],
   "source": [
    "# help(quad)"
   ]
  },
  {
   "cell_type": "markdown",
   "metadata": {},
   "source": [
    "### b) Metoda trapezów numerycznie\n",
    "$$ \\int^{x_{n}}_{x_{0}} f(x)dx\\approx \\sum^{n-1}_{i=0} \\frac{h}{2} [f(x_{i+1})+f(x_{i}))]=h(\\frac{1}{2} f_{0}+f_{1}+f_{2}+...+f_{n-1}+\\frac{1}{2} f_{n}) $$\n",
    "\n",
    "$$h=\\frac{x_{n}-x_{0}}{n} $$\n",
    "\n",
    "Jak zmienia się dokładność metody w zależności od liczby podprzedziałów"
   ]
  },
  {
   "cell_type": "code",
   "execution_count": 288,
   "metadata": {},
   "outputs": [
    {
     "name": "stdout",
     "output_type": "stream",
     "text": [
      "Liczba podprzedziałów:  20\n",
      "Rozkład x: \n",
      " [-1.  -0.9 -0.8 -0.7 -0.6 -0.5 -0.4 -0.3 -0.2 -0.1  0.   0.1  0.2  0.3\n",
      "  0.4  0.5  0.6  0.7  0.8  0.9  1. ]\n",
      "Wynik całkowania:  1.5522591631241591\n"
     ]
    }
   ],
   "source": [
    "# Wyliczenie liczby podprzedziałów\n",
    "a=-1\n",
    "b=1\n",
    "h=1/10\n",
    "n=int((b-a)/h)\n",
    "print(\"Liczba podprzedziałów: \",n)\n",
    "x=np.linspace(-1,1,n+1)\n",
    "print(\"Rozkład x: \\n\",x)\n",
    "\n",
    "# Całkowanie\n",
    "sum05=0.5*(np.sqrt(1-x[0]**2)+np.sqrt(1-x[-1]**2))  # Suma elementu 1 i n\n",
    "\n",
    "sum1=0\n",
    "for i in range(1,len(x)-1):\n",
    "    sum1+=np.sqrt(1-x[i]**2)  # Suma i-tych elementów, i=2,..,n-1\n",
    "\n",
    "sum=(sum05+sum1)*h # Wynik całkowania\n",
    "print(\"Wynik całkowania: \",sum)"
   ]
  },
  {
   "cell_type": "markdown",
   "metadata": {},
   "source": [
    "### c) Metoda trapezów w SciPY"
   ]
  },
  {
   "cell_type": "code",
   "execution_count": 289,
   "metadata": {},
   "outputs": [
    {
     "name": "stdout",
     "output_type": "stream",
     "text": [
      "[-1.  -0.9 -0.8 -0.7 -0.6 -0.5 -0.4 -0.3 -0.2 -0.1  0.   0.1  0.2  0.3\n",
      "  0.4  0.5  0.6  0.7  0.8  0.9  1. ]\n"
     ]
    },
    {
     "data": {
      "text/plain": [
       "1.5522591631241593"
      ]
     },
     "execution_count": 289,
     "metadata": {},
     "output_type": "execute_result"
    }
   ],
   "source": [
    "from scipy.integrate import trapz\n",
    "\n",
    "def f(x):\n",
    "    return np.sqrt(1-x**2)\n",
    "\n",
    "y=f(x)\n",
    "print(x)\n",
    "\n",
    "trapz(y,dx=1/10)"
   ]
  },
  {
   "cell_type": "markdown",
   "metadata": {},
   "source": [
    "### d) Metoda simpsona numerycznie\n",
    "$$\\int^{x_{2n}}_{x_{0}} f(x)dx\\approx \\frac{h}{3} [f_{0}+f_{2n}+4(f_{1}+f_{3}+...+f_{2n-1})+2(f_{2}+f_{4}+...+f_{2n-2})]$$\n",
    "\n",
    "$$h=\\frac{x_{2n}-x_{0}}{2n} $$\n",
    "\n",
    "Jak zmienia się dokładność metody w zależności od liczby podprzedziałów"
   ]
  },
  {
   "cell_type": "code",
   "execution_count": 290,
   "metadata": {},
   "outputs": [
    {
     "name": "stdout",
     "output_type": "stream",
     "text": [
      "Liczba podprzedziałów:  4\n",
      "Rozkład x: \n",
      " [-1.  -0.5  0.   0.5  1. ]\n",
      "Wynik całkowania:  1.4880338717125847\n"
     ]
    }
   ],
   "source": [
    "# Wyliczenie liczby podprzedziałów\n",
    "a=-1\n",
    "b=1\n",
    "h=1/2\n",
    "n=int((b-a)/h)\n",
    "print(\"Liczba podprzedziałów: \",n)\n",
    "x=np.linspace(-1,1,n+1)\n",
    "print(\"Rozkład x: \\n\",x)\n",
    "\n",
    "\n",
    "# Całkowanie\n",
    "sum1=np.sqrt(1-x[0]**2)+np.sqrt(1-x[-1]**2)  # Suma elementu 1 i n\n",
    "\n",
    "sum4=0\n",
    "for i in range(1,len(x)-1,2):\n",
    "    sum4+=4*np.sqrt(1-x[i]**2)  # Suma i-tych elementów, i=1,2,..,n-1\n",
    "\n",
    "sum2=0\n",
    "for i in range(2,len(x)-2,2):\n",
    "    sum2+=2*np.sqrt(1-x[i]**2)  # Suma i-tych elementów, i=2,4,..,n-2\n",
    "\n",
    "sum=(sum1+sum4+sum2)*h/3 # Wynik całkowania\n",
    "print(\"Wynik całkowania: \",sum)"
   ]
  },
  {
   "cell_type": "markdown",
   "metadata": {},
   "source": [
    "### e) Metoda simpsona w SciPy\n"
   ]
  },
  {
   "cell_type": "code",
   "execution_count": 181,
   "metadata": {},
   "outputs": [],
   "source": [
    "from scipy.integrate import simps"
   ]
  },
  {
   "cell_type": "code",
   "execution_count": 182,
   "metadata": {},
   "outputs": [
    {
     "name": "stdout",
     "output_type": "stream",
     "text": [
      "[-1.  -0.5  0.   0.5  1. ]\n"
     ]
    }
   ],
   "source": [
    "print(x)"
   ]
  },
  {
   "cell_type": "code",
   "execution_count": 293,
   "metadata": {},
   "outputs": [
    {
     "data": {
      "text/plain": [
       "1.4880338717125847"
      ]
     },
     "execution_count": 293,
     "metadata": {},
     "output_type": "execute_result"
    }
   ],
   "source": [
    "def f(x):\n",
    "    return np.sqrt(1-x**2)\n",
    "\n",
    "y=f(x)\n",
    "\n",
    "simps(y,dx=0.5)"
   ]
  },
  {
   "cell_type": "markdown",
   "metadata": {},
   "source": [
    "### f) Kwadratura Gaussa numerycznie oraz w Scipy\n",
    "$$\\int^{1}_{-1} x^{2}dx=0.666667$$"
   ]
  },
  {
   "cell_type": "code",
   "execution_count": 301,
   "metadata": {},
   "outputs": [
    {
     "name": "stdout",
     "output_type": "stream",
     "text": [
      "Kwadratura numerycznie:  0.6666666666666669\n",
      "Kwadratura w SciPy:  (0.666666666666667, 3.3306690738754696e-16)\n"
     ]
    }
   ],
   "source": [
    "from scipy import integrate\n",
    "f= lambda x:x**2\n",
    "\n",
    "\n",
    "# Kwadratura Gaussa numerycznie: \n",
    "I1=f(-1/np.sqrt(3))+f(1/np.sqrt(3))\n",
    "print(\"Kwadratura numerycznie: \",I1)\n",
    "\n",
    "# Kwadratura Gaussa w SciPy: \n",
    "I2=integrate.quadrature(f,-1,1)\n",
    "\n",
    "print(\"Kwadratura w SciPy: \",I2)"
   ]
  },
  {
   "cell_type": "markdown",
   "metadata": {},
   "source": [
    "Rozwiązywanie układów równań nieliniowych: funkcja solve pakietu SciPy"
   ]
  },
  {
   "cell_type": "markdown",
   "metadata": {},
   "source": [
    "$$2=c_{1}+c_{2}$$\n",
    "$$0=c_{1}x_{1}+c_{2}x_{2}$$\n",
    "$$\\frac{2}{3} =c_{1}x^{2}_{1}+c_{2}x^{2}_{2}$$\n",
    "$$0=c_{1}x^{3}_{1}+c_{2}x^{3}_{2}$$"
   ]
  },
  {
   "cell_type": "code",
   "execution_count": 295,
   "metadata": {},
   "outputs": [
    {
     "name": "stdout",
     "output_type": "stream",
     "text": [
      "Pierwiastki układu równań nieliniowych:  [ 1.          1.         -0.57735027  0.57735027]\n"
     ]
    }
   ],
   "source": [
    "from scipy.optimize import fsolve\n",
    "def func(x):\n",
    "    return [x[0]+x[1]-2,\n",
    "            x[0]*x[2]+x[1]*x[3],\n",
    "            x[0]*x[2]**2+x[1]*x[3]**2-2/3,\n",
    "            x[0]*x[2]**3+x[1]*x[3]**3 ]\n",
    "root = fsolve(func, [1, 1,1,1])\n",
    "\n",
    "print(\"Pierwiastki układu równań nieliniowych: \",root)\n"
   ]
  },
  {
   "cell_type": "markdown",
   "metadata": {},
   "source": [
    "### g) Błąd kwadratury Gaussa\n",
    "\n",
    "$$\\int^{1}_{-1} x^{4}dx=0.4$$"
   ]
  },
  {
   "cell_type": "code",
   "execution_count": 300,
   "metadata": {},
   "outputs": [
    {
     "name": "stdout",
     "output_type": "stream",
     "text": [
      "Kwadratura numerycznie:  0.22222222222222235\n",
      "Kwadratura w SciPy:  (0.39999999999999986, 2.7755575615628914e-16)\n"
     ]
    }
   ],
   "source": [
    "# Kwadratura Gaussa: \n",
    "f= lambda x:x**4\n",
    "I1=f(-1/np.sqrt(3))+f(1/np.sqrt(3))\n",
    "print(\"Kwadratura numerycznie: \",I1)\n",
    "\n",
    "# Kwadratura Gaussa w SciPy: \n",
    "I2=integrate.quadrature(f,-1,1)\n",
    "\n",
    "print(\"Kwadratura w SciPy: \",I2)"
   ]
  },
  {
   "cell_type": "markdown",
   "metadata": {},
   "source": [
    "$$\\int^{1}_{-1} cos(x)dx=1.682941969615793$$"
   ]
  },
  {
   "cell_type": "code",
   "execution_count": 299,
   "metadata": {},
   "outputs": [
    {
     "name": "stdout",
     "output_type": "stream",
     "text": [
      "Kwadratura numerycznie:  1.6758236553899861\n",
      "Kwadratura w SciPy:  (1.6829419696142796, 7.929128464922996e-10)\n"
     ]
    }
   ],
   "source": [
    "# Kwadratura Gaussa: \n",
    "f= lambda x:np.cos(x)\n",
    "I1=f(-1/np.sqrt(3))+f(1/np.sqrt(3))\n",
    "print(\"Kwadratura numerycznie: \",I1)\n",
    "\n",
    "# Kwadratura Gaussa w SciPy: \n",
    "I2=integrate.quadrature(f,-1,1)\n",
    "\n",
    "print(\"Kwadratura w SciPy: \",I2)"
   ]
  },
  {
   "cell_type": "code",
   "execution_count": null,
   "metadata": {},
   "outputs": [],
   "source": []
  }
 ],
 "metadata": {
  "kernelspec": {
   "display_name": "Python 3",
   "language": "python",
   "name": "python3"
  },
  "language_info": {
   "codemirror_mode": {
    "name": "ipython",
    "version": 3
   },
   "file_extension": ".py",
   "mimetype": "text/x-python",
   "name": "python",
   "nbconvert_exporter": "python",
   "pygments_lexer": "ipython3",
   "version": "3.9.0"
  }
 },
 "nbformat": 4,
 "nbformat_minor": 4
}
